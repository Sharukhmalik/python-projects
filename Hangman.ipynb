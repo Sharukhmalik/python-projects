{
 "cells": [
  {
   "cell_type": "code",
   "execution_count": 18,
   "id": "2552253d",
   "metadata": {},
   "outputs": [],
   "source": [
    "import random"
   ]
  },
  {
   "cell_type": "code",
   "execution_count": 24,
   "id": "f5a6bd9f",
   "metadata": {},
   "outputs": [],
   "source": [
    "#function to select random word from list\n",
    "def select_word():\n",
    "    word_list = [\"animalsandplants\", \"investmentsmanagementcriteria\", \"tennis\", \"basketball\", \"baseball\", \"volleyball\", \"apple\", \"banana\"]\n",
    "    return random.choice(word_list)"
   ]
  },
  {
   "cell_type": "code",
   "execution_count": 25,
   "id": "57fe7de8",
   "metadata": {},
   "outputs": [
    {
     "data": {
      "text/plain": [
       "'investmentsmanagementcriteria'"
      ]
     },
     "execution_count": 25,
     "metadata": {},
     "output_type": "execute_result"
    }
   ],
   "source": [
    "select_word()"
   ]
  },
  {
   "cell_type": "code",
   "execution_count": 26,
   "id": "f698711b",
   "metadata": {},
   "outputs": [],
   "source": [
    "# To start game\n",
    "def start_game():\n",
    "    attempts = 0\n",
    "    maximum_attempts = 7\n",
    "    word = select_word()\n",
    "    guessed_letters = []\n",
    "    word_pattern = \"_\" * len(word)\n",
    "    print(\"Welcome to Hangman!\", \"the word has\", len(word), \"letters.\")\n",
    "    #loop based on attempt allowed and actual attempt\n",
    "    while attempts < maximum_attempts:\n",
    "        guess = input(\"Guess a letter: \").lower()\n",
    "        #check if letter is already tried\n",
    "        if guess in guessed_letters:\n",
    "            print(\"You already guessed the number, Please try again!\")\n",
    "            continue\n",
    "        guessed_letters.append(guess)\n",
    "        #check if the guess word is equal to word letter and create a pattern based on successful guessed word\n",
    "        if guess in word:\n",
    "            new_pattern = ''\n",
    "            for i in range(len(word)):\n",
    "                if word[i] == guess:\n",
    "                    new_pattern += guess\n",
    "                else:\n",
    "                    new_pattern += word_pattern[i]\n",
    "            word_pattern = new_pattern\n",
    "            print(\"correct guess\")\n",
    "            print(word_pattern)\n",
    "            #check if no word left to quess and whole word guessed\n",
    "            if \"_\" not in word_pattern:\n",
    "                print(\"Congratulation! you guesses the word correctly\")\n",
    "                return True\n",
    "            else:\n",
    "                attempts += 1\n",
    "                remaining_attempts = maximum_attempts-attempts\n",
    "                print(\"wrong guess! remaining attempt:\", remaining_attempts)\n",
    "                #create hangman stages based on remaining attempts\n",
    "                if remaining_attempts == 6:\n",
    "                    print(\"6 attempts left\")\n",
    "                    print(\"----------\")\n",
    "                if remaining_attempts == 5:\n",
    "                    print(\"5 turns left\")\n",
    "                    print(\"----------\")\n",
    "                    print(\"    o    \")\n",
    "                if remaining_attempts == 4:\n",
    "                    print(\"4 turn left\")\n",
    "                    print(\"----------\")\n",
    "                    print(\"    |    \")\n",
    "                    print(\"    o    \")\n",
    "                if remaining_attempts == 3:\n",
    "                    print(\"3 turns left\")\n",
    "                    print(\"----------\")\n",
    "                    print(\"    |     \")\n",
    "                    print(\"   \\     \")\n",
    "                    print(\"    o     \")   \n",
    "                if remaining_attempts == 2:\n",
    "                    print(\"2 turns left\")\n",
    "                    print(\"----------\")\n",
    "                    print(\"    |    \")\n",
    "                    print(\"   \\ /   \")\n",
    "                    print(\"    o    \")\n",
    "                if remaining_attempts == 1:\n",
    "                    print(\"1 turns left\")\n",
    "                    print(\"----------\")\n",
    "                    print(\"    |    \")\n",
    "                    print(\"   \\ /   \")\n",
    "                    print(\"    o    \")\n",
    "                    print(\"   /     \")\n",
    "                if remaining_attempts == 0:\n",
    "                    print(\"0 turns left\")\n",
    "                    print(\"----------\")\n",
    "                    print(\"    |    \")\n",
    "                    print(\"   \\ /   \")\n",
    "                    print(\"    o    \")\n",
    "                    print(\"   / \\   \")\n",
    "                          \n",
    "    print(\"you ran out of attempt! the last word was:\", word, \"well tried\")\n",
    "    return False"
   ]
  },
  {
   "cell_type": "code",
   "execution_count": 27,
   "id": "fe9f1814",
   "metadata": {},
   "outputs": [],
   "source": [
    "#function to calculate the suceess rate for guessed attempt with total games \n",
    "def main():\n",
    "    successful_games = 0 \n",
    "    total_games = 10\n",
    "    \n",
    "    for _ in range(total_games):\n",
    "        if start_game():\n",
    "            successful_games += 1\n",
    "    success_rate = (successful_games / total_games)*100\n",
    "    print(\"success rate:\", success_rate, \"%\")\n",
    "\n",
    "    \n",
    "    "
   ]
  },
  {
   "cell_type": "code",
   "execution_count": null,
   "id": "41f1cfd5",
   "metadata": {},
   "outputs": [
    {
     "name": "stdout",
     "output_type": "stream",
     "text": [
      "Welcome to Hangman! the word has 6 letters.\n",
      "Guess a letter: i\n",
      "correct guess\n",
      "____i_\n",
      "wrong guess! remaining attempt: 6\n",
      "6 attempts left\n",
      "----------\n",
      "Guess a letter: r\n"
     ]
    }
   ],
   "source": [
    "main()"
   ]
  },
  {
   "cell_type": "code",
   "execution_count": null,
   "id": "8c5199e7",
   "metadata": {},
   "outputs": [],
   "source": []
  },
  {
   "cell_type": "code",
   "execution_count": null,
   "id": "392a0bff",
   "metadata": {},
   "outputs": [],
   "source": []
  }
 ],
 "metadata": {
  "kernelspec": {
   "display_name": "Python 3 (ipykernel)",
   "language": "python",
   "name": "python3"
  },
  "language_info": {
   "codemirror_mode": {
    "name": "ipython",
    "version": 3
   },
   "file_extension": ".py",
   "mimetype": "text/x-python",
   "name": "python",
   "nbconvert_exporter": "python",
   "pygments_lexer": "ipython3",
   "version": "3.11.2"
  }
 },
 "nbformat": 4,
 "nbformat_minor": 5
}
