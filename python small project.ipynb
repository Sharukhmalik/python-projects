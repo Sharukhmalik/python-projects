{
 "cells": [
  {
   "cell_type": "code",
   "execution_count": 89,
   "id": "f85286c5",
   "metadata": {},
   "outputs": [],
   "source": [
    "from datetime import datetime "
   ]
  },
  {
   "cell_type": "code",
   "execution_count": 4,
   "id": "9d81562a",
   "metadata": {},
   "outputs": [],
   "source": [
    "import random"
   ]
  },
  {
   "cell_type": "code",
   "execution_count": 5,
   "id": "33d60388",
   "metadata": {},
   "outputs": [],
   "source": [
    "def guess(x):      #guessing a generated random number\n",
    "    random_number=random.randint(1,x)\n",
    "    guess=0\n",
    "    while guess != random_number:\n",
    "        guess=int(input(f\"guess is number between 1 and {x}:\"))\n",
    "        if guess<random_number:\n",
    "            print (\"your guess is too low try again and best of luck!\")\n",
    "        elif guess>random_number:\n",
    "            print (\"your guess is too high and good luck\")\n",
    "    print (\"you are genius and the guess is correct\")\n",
    "    "
   ]
  },
  {
   "cell_type": "code",
   "execution_count": 6,
   "id": "dadecb44",
   "metadata": {},
   "outputs": [
    {
     "name": "stdout",
     "output_type": "stream",
     "text": [
      "guess is number between 1 and 11:-1\n",
      "your guess is too low try again and best of luck!\n",
      "guess is number between 1 and 11:2\n",
      "your guess is too low try again and best of luck!\n",
      "guess is number between 1 and 11:6\n",
      "you are genius and the guess is correct\n",
      "None\n"
     ]
    }
   ],
   "source": [
    "print (guess(11))"
   ]
  },
  {
   "cell_type": "markdown",
   "id": "2c592528",
   "metadata": {},
   "source": [
    "#### function to calculate value based on quantity and price"
   ]
  },
  {
   "cell_type": "code",
   "execution_count": 65,
   "id": "ec0079a2",
   "metadata": {},
   "outputs": [
    {
     "name": "stdout",
     "output_type": "stream",
     "text": [
      "Name of intrument is  debt, latest price is 5 and size is 50, total value is 250\n"
     ]
    }
   ],
   "source": [
    "class portfolio (object):\n",
    "    def __init__(self,name, price, size):\n",
    "        self.price=price\n",
    "        self.fisize=size\n",
    "        self.name=name\n",
    "        \n",
    "    def finame(self):\n",
    "        return self.name\n",
    "        \n",
    "    def getpositionsize(self):\n",
    "        return self.fisize\n",
    "    def update_position_size(self, fisize):\n",
    "        self.fisize=fisize\n",
    "    def value(self):\n",
    "        return self.price*self.fisize\n",
    "    \n",
    "    \n",
    "        \n",
    "        \n",
    "pp=portfolio(\"debt\", 5, 50)\n",
    "\n",
    "a=pp.getpositionsize()\n",
    "b=pp.finame()\n",
    "c=pp.value()\n",
    "d=pp.price\n",
    "\n",
    "print (f\"Name of intrument is  {b}, latest price is {d} and size is {a}, total value is {c}\")\n"
   ]
  },
  {
   "cell_type": "code",
   "execution_count": 49,
   "id": "f6eaef23",
   "metadata": {},
   "outputs": [],
   "source": [
    "def valuation(portfolio):\n",
    "    print (f\"Name of intrument is  {b}, latest price is {d} and size is {a}, total value is {c}\")\n",
    "    \n",
    "    "
   ]
  },
  {
   "cell_type": "code",
   "execution_count": 63,
   "id": "6221dc4e",
   "metadata": {},
   "outputs": [],
   "source": [
    "import matplotlib.pyplot as plt\n",
    "%matplotlib inline"
   ]
  },
  {
   "cell_type": "code",
   "execution_count": 59,
   "id": "f72df15c",
   "metadata": {},
   "outputs": [],
   "source": [
    "import numpy as np\n",
    "a=np.random.seed(1000)"
   ]
  },
  {
   "cell_type": "code",
   "execution_count": 60,
   "id": "c97886db",
   "metadata": {},
   "outputs": [
    {
     "data": {
      "text/plain": [
       "array([-0.8044583 ,  0.32093155, -0.02548288,  0.64432383, -0.30079667,\n",
       "        0.38947455, -0.1074373 , -0.47998308,  0.5950355 , -0.46466753,\n",
       "        0.66728131, -0.80611561, -1.19606983, -0.40596016, -0.18237734,\n",
       "        0.10319289, -0.13842199,  0.70569237,  1.27179528, -0.98674733])"
      ]
     },
     "execution_count": 60,
     "metadata": {},
     "output_type": "execute_result"
    }
   ],
   "source": [
    "y = np.random.standard_normal(20)\n",
    "y"
   ]
  },
  {
   "cell_type": "code",
   "execution_count": 64,
   "id": "50922cd6",
   "metadata": {},
   "outputs": [
    {
     "data": {
      "image/png": "[encoded data removed]",
      "text/plain": [
       "<Figure size 432x288 with 1 Axes>"
      ]
     },
     "metadata": {
      "needs_background": "light"
     },
     "output_type": "display_data"
    }
   ],
   "source": [
    "x = np.arange(len(y))\n",
    "plt.plot(x, y);"
   ]
  },
  {
   "cell_type": "code",
   "execution_count": 107,
   "id": "3fbe03b2",
   "metadata": {},
   "outputs": [
    {
     "name": "stdout",
     "output_type": "stream",
     "text": [
      "2\n",
      "4\n",
      "10\n",
      "6\n"
     ]
    }
   ],
   "source": [
    "num=[ 1,2,5,3]\n",
    "try:\n",
    "    for i in num:\n",
    "        print (i*2)\n",
    "except NameError as e:\n",
    "    print (\"error:this ia a new\", e)"
   ]
  },
  {
   "cell_type": "code",
   "execution_count": 109,
   "id": "0c60fec8",
   "metadata": {},
   "outputs": [
    {
     "name": "stdout",
     "output_type": "stream",
     "text": [
      "Requirement already satisfied: mysql-connector-python in c:\\users\\sharu\\anaconda3\\envs\\pandas_kl\\lib\\site-packages (8.0.30)Note: you may need to restart the kernel to use updated packages.\n",
      "\n",
      "Requirement already satisfied: protobuf<=3.20.1,>=3.11.0 in c:\\users\\sharu\\anaconda3\\envs\\pandas_kl\\lib\\site-packages (from mysql-connector-python) (3.20.1)\n"
     ]
    }
   ],
   "source": [
    "pip install mysql-connector-python"
   ]
  },
  {
   "cell_type": "code",
   "execution_count": 124,
   "id": "d92dd212",
   "metadata": {},
   "outputs": [
    {
     "name": "stdout",
     "output_type": "stream",
     "text": [
      "<mysql.connector.connection_cext.CMySQLConnection object at 0x000001FA2F6283D0>\n"
     ]
    }
   ],
   "source": [
    "###create my sql connector\n",
    "import mysql.connector as sql\n",
    "\n",
    "connections=sql.connect(\n",
    "    host =\"127.0.0.1\",\n",
    "    user=\"sharukhmalik\",\n",
    "    password=\"******\",\n",
    "    database=\"mynewdatabase\")\n",
    "print (connections)"
   ]
  },
  {
   "cell_type": "code",
   "execution_count": 113,
   "id": "f3506e13",
   "metadata": {},
   "outputs": [],
   "source": [
    "cursor=connections.cursor()"
   ]
  },
  {
   "cell_type": "code",
   "execution_count": 116,
   "id": "8199dcc0",
   "metadata": {},
   "outputs": [],
   "source": [
    "cursor.execute(\"Create Database mynewdatabase\")"
   ]
  },
  {
   "cell_type": "code",
   "execution_count": 117,
   "id": "c7fe8999",
   "metadata": {},
   "outputs": [],
   "source": [
    "cursor.execute('SHOW DATABASES')"
   ]
  },
  {
   "cell_type": "code",
   "execution_count": 119,
   "id": "03ad8dcc",
   "metadata": {},
   "outputs": [
    {
     "name": "stdout",
     "output_type": "stream",
     "text": [
      "('information_schema',)\n",
      "('mynewdatabase',)\n",
      "('mysql',)\n",
      "('new_schema',)\n",
      "('performance_schema',)\n",
      "('sys',)\n",
      "('world',)\n"
     ]
    }
   ],
   "source": [
    "for x in cursor:\n",
    "    print(x)"
   ]
  },
  {
   "cell_type": "code",
   "execution_count": 125,
   "id": "1e5adf22",
   "metadata": {},
   "outputs": [],
   "source": [
    "cursor.execute(\"CREATE TABLE farjiinfo (id INT AUTO_INCREMENT PRIMARY KEY, name VARCHAR(255), subject VARCHAR(255) )\")"
   ]
  },
  {
   "cell_type": "code",
   "execution_count": 140,
   "id": "37d8e10a",
   "metadata": {},
   "outputs": [],
   "source": [
    "cursor.execute(\"select * from farjiinfo\")"
   ]
  },
  {
   "cell_type": "code",
   "execution_count": 144,
   "id": "e1dc0677",
   "metadata": {},
   "outputs": [],
   "source": [
    "lst=cursor.fetchall()"
   ]
  },
  {
   "cell_type": "code",
   "execution_count": 146,
   "id": "fe00afbe",
   "metadata": {},
   "outputs": [],
   "source": [
    "for i in lst:\n",
    "    print (i)"
   ]
  },
  {
   "cell_type": "code",
   "execution_count": 170,
   "id": "efeb4788",
   "metadata": {},
   "outputs": [
    {
     "name": "stdout",
     "output_type": "stream",
     "text": [
      "Enter your email:malik@gmail.com\n",
      "Your user name is 'malik' and your domain is 'gmail'\n"
     ]
    }
   ],
   "source": [
    "email=input(\"Enter your email:\").strip()\n",
    "username=email[:email.index(\"@\")]\n",
    "domain_name = email[email.index(\"@\")+1:email.index(\".\")]\n",
    "format_ = (f\"Your user name is '{username}' and your domain is '{domain_name}'\")\n",
    "print(format_)\n"
   ]
  },
  {
   "cell_type": "code",
   "execution_count": 159,
   "id": "cd602b0a",
   "metadata": {},
   "outputs": [],
   "source": [
    "import random"
   ]
  },
  {
   "cell_type": "code",
   "execution_count": 160,
   "id": "d49f9bb4",
   "metadata": {},
   "outputs": [],
   "source": [
    "when = ['A few years ago', 'Yesterday', 'Last night', 'A long time ago','On 20th Jan']\n",
    "who = ['a rabbit', 'an elephant', 'a mouse', 'a turtle','a cat']\n",
    "name = ['Ali', 'Miriam','daniel', 'Hoouk', 'Starwalker']\n",
    "residence = ['Barcelona','India', 'Germany', 'Venice', 'England']\n",
    "went = ['cinema', 'university','seminar', 'school', 'laundry']\n",
    "happened = ['made a lot of friends','Eats a burger', 'found a secret key', 'solved a mistery', 'wrote a book']"
   ]
  },
  {
   "cell_type": "code",
   "execution_count": 169,
   "id": "7959a8f4",
   "metadata": {},
   "outputs": [
    {
     "name": "stdout",
     "output_type": "stream",
     "text": [
      "A few years ago,a rabbit,Miriam,Barcelona,seminar,wrote a book\n"
     ]
    }
   ],
   "source": [
    "print (random.choice(when)+\",\"+random.choice(who)+\",\"+random.choice(name)+\",\"+random.choice(residence)+\",\"+random.choice(went)+\",\"+random.choice(happened))"
   ]
  },
  {
   "cell_type": "code",
   "execution_count": 171,
   "id": "582b0709",
   "metadata": {},
   "outputs": [
    {
     "name": "stdout",
     "output_type": "stream",
     "text": [
      "Note: you may need to restart the kernel to use updated packages.Collecting opencv-python\n",
      "\n",
      "  Downloading opencv_python-4.6.0.66-cp36-abi3-win_amd64.whl (35.6 MB)\n",
      "Requirement already satisfied: numpy>=1.19.3 in c:\\users\\sharu\\anaconda3\\envs\\pandas_kl\\lib\\site-packages (from opencv-python) (1.21.5)\n",
      "Installing collected packages: opencv-python\n",
      "Successfully installed opencv-python-4.6.0.66\n"
     ]
    }
   ],
   "source": [
    "pip install opencv-python"
   ]
  },
  {
   "cell_type": "code",
   "execution_count": 172,
   "id": "59830d3d",
   "metadata": {},
   "outputs": [],
   "source": [
    "import cv2\n",
    "import numpy as np"
   ]
  },
  {
   "cell_type": "code",
   "execution_count": 182,
   "id": "56530cb7",
   "metadata": {},
   "outputs": [
    {
     "ename": "error",
     "evalue": "OpenCV(4.6.0) D:\\a\\opencv-python\\opencv-python\\opencv\\modules\\highgui\\src\\window.cpp:967: error: (-215:Assertion failed) size.width>0 && size.height>0 in function 'cv::imshow'\n",
     "output_type": "error",
     "traceback": [
      "\u001b[1;31m---------------------------------------------------------------------------\u001b[0m",
      "\u001b[1;31merror\u001b[0m                                     Traceback (most recent call last)",
      "Input \u001b[1;32mIn [182]\u001b[0m, in \u001b[0;36m<cell line: 5>\u001b[1;34m()\u001b[0m\n\u001b[0;32m      5\u001b[0m \u001b[38;5;28;01mwhile\u001b[39;00m \u001b[38;5;28;01mTrue\u001b[39;00m:\n\u001b[0;32m      6\u001b[0m     ret, frame \u001b[38;5;241m=\u001b[39m cap\u001b[38;5;241m.\u001b[39mread()\n\u001b[1;32m----> 7\u001b[0m     \u001b[43mcv2\u001b[49m\u001b[38;5;241;43m.\u001b[39;49m\u001b[43mimshow\u001b[49m\u001b[43m(\u001b[49m\u001b[38;5;124;43m\"\u001b[39;49m\u001b[38;5;124;43mFrame\u001b[39;49m\u001b[38;5;124;43m\"\u001b[39;49m\u001b[43m,\u001b[49m\u001b[43m \u001b[49m\u001b[43mframe\u001b[49m\u001b[43m)\u001b[49m\n\u001b[0;32m      8\u001b[0m     \u001b[38;5;28;01mif\u001b[39;00m cv2\u001b[38;5;241m.\u001b[39mwaitKey(\u001b[38;5;241m1\u001b[39m) \u001b[38;5;241m&\u001b[39m \u001b[38;5;241m0xFF\u001b[39m \u001b[38;5;241m==\u001b[39m \u001b[38;5;28mord\u001b[39m(\u001b[38;5;124m'\u001b[39m\u001b[38;5;124mq\u001b[39m\u001b[38;5;124m'\u001b[39m):\n\u001b[0;32m      9\u001b[0m         \u001b[38;5;28;01mbreak\u001b[39;00m\n",
      "\u001b[1;31merror\u001b[0m: OpenCV(4.6.0) D:\\a\\opencv-python\\opencv-python\\opencv\\modules\\highgui\\src\\window.cpp:967: error: (-215:Assertion failed) size.width>0 && size.height>0 in function 'cv::imshow'\n"
     ]
    }
   ],
   "source": [
    "url=\"http://192.168.1.4:8080\"\n",
    "cap = cv2.VideoCapture(url)\n",
    "\n",
    "frame = None\n",
    "while True:\n",
    "    ret, frame = cap.read()\n",
    "    cv2.imshow(\"Frame\", frame)\n",
    "    if cv2.waitKey(1) & 0xFF == ord('q'):\n",
    "        break\n",
    "cap.release()\n",
    "cv2.destroyAllWindows()"
   ]
  },
  {
   "cell_type": "code",
   "execution_count": 1,
   "id": "fad63aea",
   "metadata": {},
   "outputs": [
    {
     "name": "stdout",
     "output_type": "stream",
     "text": [
      "Enter Text: this \n",
      "this \n",
      "Enter Text: is \n",
      "is \n",
      "Enter Text: just \n",
      "just \n",
      "Enter Text: a test\n",
      "a test\n",
      "Enter Text: stop\n"
     ]
    }
   ],
   "source": [
    "while True:\n",
    "\n",
    "    reply = input(\"Enter Text: \")\n",
    "\n",
    "    if reply == 'stop': break\n",
    "\n",
    "    print(reply)\n"
   ]
  },
  {
   "cell_type": "code",
   "execution_count": 4,
   "id": "d0555c08",
   "metadata": {},
   "outputs": [
    {
     "name": "stdout",
     "output_type": "stream",
     "text": [
      "Collecting pytrends\n",
      "  Downloading pytrends-4.8.0.tar.gz (19 kB)\n",
      "Requirement already satisfied: requests>=2.0 in c:\\users\\sharu\\anaconda3\\envs\\pandas_kl\\lib\\site-packages (from pytrends) (2.27.1)\n",
      "Requirement already satisfied: pandas>=0.25 in c:\\users\\sharu\\anaconda3\\envs\\pandas_kl\\lib\\site-packages (from pytrends) (1.4.1)\n",
      "Requirement already satisfied: lxml in c:\\users\\sharu\\anaconda3\\envs\\pandas_kl\\lib\\site-packages (from pytrends) (4.8.0)\n",
      "Requirement already satisfied: numpy>=1.21.0 in c:\\users\\sharu\\anaconda3\\envs\\pandas_kl\\lib\\site-packages (from pandas>=0.25->pytrends) (1.21.5)\n",
      "Requirement already satisfied: pytz>=2020.1 in c:\\users\\sharu\\anaconda3\\envs\\pandas_kl\\lib\\site-packages (from pandas>=0.25->pytrends) (2021.3)\n",
      "Requirement already satisfied: python-dateutil>=2.8.1 in c:\\users\\sharu\\anaconda3\\envs\\pandas_kl\\lib\\site-packages (from pandas>=0.25->pytrends) (2.8.2)\n",
      "Requirement already satisfied: six>=1.5 in c:\\users\\sharu\\anaconda3\\envs\\pandas_kl\\lib\\site-packages (from python-dateutil>=2.8.1->pandas>=0.25->pytrends) (1.16.0)\n",
      "Requirement already satisfied: idna<4,>=2.5 in c:\\users\\sharu\\anaconda3\\envs\\pandas_kl\\lib\\site-packages (from requests>=2.0->pytrends) (3.3)\n",
      "Requirement already satisfied: urllib3<1.27,>=1.21.1 in c:\\users\\sharu\\anaconda3\\envs\\pandas_kl\\lib\\site-packages (from requests>=2.0->pytrends) (1.26.8)\n",
      "Requirement already satisfied: certifi>=2017.4.17 in c:\\users\\sharu\\anaconda3\\envs\\pandas_kl\\lib\\site-packages (from requests>=2.0->pytrends) (2022.5.18.1)\n",
      "Requirement already satisfied: charset-normalizer~=2.0.0 in c:\\users\\sharu\\anaconda3\\envs\\pandas_kl\\lib\\site-packages (from requests>=2.0->pytrends) (2.0.12)\n",
      "Building wheels for collected packages: pytrends\n",
      "  Building wheel for pytrends (setup.py): started\n",
      "  Building wheel for pytrends (setup.py): finished with status 'done'\n",
      "  Created wheel for pytrends: filename=pytrends-4.8.0-py3-none-any.whl size=16126 sha256=ec70d183af22428a4a817a348e83864f99eb381d00528f24aa4c5fba20b80798\n",
      "  Stored in directory: c:\\users\\sharu\\appdata\\local\\pip\\cache\\wheels\\a1\\49\\af\\d5afa28da8206d2e1867aa9e1682157e6c665b20c38bc7e6f1\n",
      "Successfully built pytrends\n",
      "Installing collected packages: pytrends\n",
      "Successfully installed pytrends-4.8.0\n",
      "Note: you may need to restart the kernel to use updated packages.\n"
     ]
    }
   ],
   "source": [
    "pip install pytrends\n"
   ]
  },
  {
   "cell_type": "code",
   "execution_count": 7,
   "id": "bd7ddc35",
   "metadata": {},
   "outputs": [],
   "source": [
    "import pandas as pd"
   ]
  },
  {
   "cell_type": "code",
   "execution_count": 8,
   "id": "0c8a9266",
   "metadata": {},
   "outputs": [],
   "source": [
    "from pytrends.request import TrendReq"
   ]
  },
  {
   "cell_type": "code",
   "execution_count": 9,
   "id": "f7531b6b",
   "metadata": {},
   "outputs": [],
   "source": [
    "import matplotlib.pyplot as plt"
   ]
  },
  {
   "cell_type": "code",
   "execution_count": 10,
   "id": "73ab9ea8",
   "metadata": {},
   "outputs": [],
   "source": [
    "trends=TrendReq()"
   ]
  },
  {
   "cell_type": "markdown",
   "id": "83675af5",
   "metadata": {},
   "source": [
    "### trends---->treending search, sugeestion, interest by region"
   ]
  },
  {
   "cell_type": "code",
   "execution_count": 33,
   "id": "9d2cf8fc",
   "metadata": {},
   "outputs": [
    {
     "name": "stdout",
     "output_type": "stream",
     "text": [
      "                        Recession\n",
      "geoName                          \n",
      "British Virgin Islands          0\n",
      "Burkina Faso                    0\n",
      "Cape Verde                      0\n",
      "Kosovo                          0\n",
      "Cyprus                          0\n",
      "Cuba                            0\n",
      "Gibraltar                       0\n",
      "St. Barthélemy                  0\n",
      "Palestine                       0\n",
      "Sri Lanka                      22\n"
     ]
    }
   ],
   "source": [
    "trends.build_payload(kw_list=[\"Recession\"])\n",
    "data=trends.interest_by_region()\n",
    "print (data.sample(10))"
   ]
  },
  {
   "cell_type": "code",
   "execution_count": 45,
   "id": "f37ae2f3",
   "metadata": {},
   "outputs": [
    {
     "name": "stdout",
     "output_type": "stream",
     "text": [
      "                           0\n",
      "0  Inter Supply Results 2022\n",
      "1           Ganesh Chaturthi\n",
      "2       NEET answer key 2022\n",
      "3              Sara Ali Khan\n",
      "4                        KRK\n",
      "5                      Adani\n",
      "6              Mukesh Ambani\n",
      "7           Ghulam Nabi Azad\n",
      "8  Natchathiram nagargirathu\n",
      "9                      Modak\n"
     ]
    }
   ],
   "source": [
    "data = trends.trending_searches(pn=\"india\") #top trends\n",
    "print(data.head(10))"
   ]
  },
  {
   "cell_type": "code",
   "execution_count": 40,
   "id": "0953d072",
   "metadata": {},
   "outputs": [
    {
     "name": "stdout",
     "output_type": "stream",
     "text": [
      "         mid          title                  type\n",
      "0   /m/05z1_         Python  Programming language\n",
      "1   /m/05tb5  Python family                 Snake\n",
      "2  /m/06bxxb        CPython      Computer program\n",
      "3  /m/01ny0v    Ball python                 Snake\n",
      "4  /m/02_2hl         Python                  Film\n"
     ]
    }
   ],
   "source": [
    "keyword = trends.suggestions(keyword=\"python\") #keyword suggestion\n",
    "data = pd.DataFrame(keyword)\n",
    "print(data.head())"
   ]
  },
  {
   "cell_type": "markdown",
   "id": "8a592dce",
   "metadata": {},
   "source": [
    "###webcrapping with python using beautifukl soup and storing the data in python"
   ]
  },
  {
   "cell_type": "code",
   "execution_count": null,
   "id": "7dd618ea",
   "metadata": {},
   "outputs": [],
   "source": []
  }
 ],
 "metadata": {
  "kernelspec": {
   "display_name": "Python 3 (ipykernel)",
   "language": "python",
   "name": "python3"
  },
  "language_info": {
   "codemirror_mode": {
    "name": "ipython",
    "version": 3
   },
   "file_extension": ".py",
   "mimetype": "text/x-python",
   "name": "python",
   "nbconvert_exporter": "python",
   "pygments_lexer": "ipython3",
   "version": "3.10.4"
  }
 },
 "nbformat": 4,
 "nbformat_minor": 5
}
