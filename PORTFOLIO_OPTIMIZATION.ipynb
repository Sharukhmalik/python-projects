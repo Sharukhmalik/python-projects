{
 "cells": [
  {
   "cell_type": "markdown",
   "id": "9493c0c9-ac2c-4b6b-b207-a254bea7d06d",
   "metadata": {},
   "source": [
    "# Portfolio optimization"
   ]
  },
  {
   "cell_type": "markdown",
   "id": "7b4f8976-deb5-4ff9-8ddb-5ec240378f0b",
   "metadata": {},
   "source": [
    "### Import Required Libraries"
   ]
  },
  {
   "cell_type": "code",
   "execution_count": 1,
   "id": "a04a106f-be01-4b03-85c6-5215fc584905",
   "metadata": {},
   "outputs": [],
   "source": [
    "import numpy as np \n",
    "import pandas as pd \n",
    "import datetime as dt \n",
    "import yfinance as yf \n",
    "import matplotlib.pyplot as plt \n",
    "from scipy.stats import norm\n",
    "import warnings\n",
    "warnings.simplefilter('ignore')"
   ]
  },
  {
   "cell_type": "markdown",
   "id": "522370ec-f35a-4e2a-bcf9-e3baf61bd54d",
   "metadata": {},
   "source": [
    "### Define data timerange and tickers to get data"
   ]
  },
  {
   "cell_type": "code",
   "execution_count": 2,
   "id": "13cd51e9-74af-4919-9a42-7d941eeb8b14",
   "metadata": {},
   "outputs": [],
   "source": [
    "years = 7\n",
    "enddate = dt.datetime.now()\n",
    "startdate = enddate - dt.timedelta(days = 365*years)"
   ]
  },
  {
   "cell_type": "code",
   "execution_count": 3,
   "id": "e59434c0-93b4-43c4-be8d-d4b48314cf0d",
   "metadata": {},
   "outputs": [
    {
     "data": {
      "text/plain": [
       "datetime.datetime(2024, 7, 22, 11, 45, 11, 714071)"
      ]
     },
     "execution_count": 3,
     "metadata": {},
     "output_type": "execute_result"
    }
   ],
   "source": [
    "enddate"
   ]
  },
  {
   "cell_type": "code",
   "execution_count": 4,
   "id": "068df469-5ba4-46de-ad91-bfab5193e632",
   "metadata": {},
   "outputs": [],
   "source": [
    "tickers = ['SPY','BND','GLD','QQQ','VTI']"
   ]
  },
  {
   "cell_type": "code",
   "execution_count": 5,
   "id": "6a203610-4e31-4c92-b491-a85bfa37b8b3",
   "metadata": {},
   "outputs": [
    {
     "name": "stderr",
     "output_type": "stream",
     "text": [
      "[*********************100%%**********************]  1 of 1 completed\n",
      "[*********************100%%**********************]  1 of 1 completed\n",
      "[*********************100%%**********************]  1 of 1 completed\n",
      "[*********************100%%**********************]  1 of 1 completed\n",
      "[*********************100%%**********************]  1 of 1 completed\n"
     ]
    }
   ],
   "source": [
    "adj_close_df = pd.DataFrame()\n",
    "for ticker in tickers:\n",
    "    data = yf.download(ticker, start = startdate, end = enddate)\n",
    "    adj_close_df[ticker] = data['Adj Close'] "
   ]
  },
  {
   "cell_type": "markdown",
   "id": "c24d8843-d15c-47a6-b207-946d7428ab0a",
   "metadata": {},
   "source": [
    "### calculate log return on adjusted return on stocks"
   ]
  },
  {
   "cell_type": "code",
   "execution_count": 6,
   "id": "dffecd12-3fb8-4c94-b92b-1b6bbd6852d9",
   "metadata": {},
   "outputs": [],
   "source": [
    "adj_close_df = adj_close_df.sort_values(by = \"Date\")"
   ]
  },
  {
   "cell_type": "code",
   "execution_count": 7,
   "id": "69342bc3-65df-4784-8d22-f6b4eedd2a69",
   "metadata": {},
   "outputs": [],
   "source": [
    "log_return = np.log(adj_close_df/adj_close_df.shift(1))\n",
    "log_return = log_return.dropna()\n"
   ]
  },
  {
   "cell_type": "code",
   "execution_count": 8,
   "id": "8274bcb9-8343-4507-8a1d-39a14bf10b6e",
   "metadata": {},
   "outputs": [
    {
     "data": {
      "text/html": [
       "<div>\n",
       "<style scoped>\n",
       "    .dataframe tbody tr th:only-of-type {\n",
       "        vertical-align: middle;\n",
       "    }\n",
       "\n",
       "    .dataframe tbody tr th {\n",
       "        vertical-align: top;\n",
       "    }\n",
       "\n",
       "    .dataframe thead th {\n",
       "        text-align: right;\n",
       "    }\n",
       "</style>\n",
       "<table border=\"1\" class=\"dataframe\">\n",
       "  <thead>\n",
       "    <tr style=\"text-align: right;\">\n",
       "      <th></th>\n",
       "      <th>SPY</th>\n",
       "      <th>BND</th>\n",
       "      <th>GLD</th>\n",
       "      <th>QQQ</th>\n",
       "      <th>VTI</th>\n",
       "    </tr>\n",
       "    <tr>\n",
       "      <th>Date</th>\n",
       "      <th></th>\n",
       "      <th></th>\n",
       "      <th></th>\n",
       "      <th></th>\n",
       "      <th></th>\n",
       "    </tr>\n",
       "  </thead>\n",
       "  <tbody>\n",
       "    <tr>\n",
       "      <th>2017-07-25</th>\n",
       "      <td>0.002428</td>\n",
       "      <td>-0.003785</td>\n",
       "      <td>-0.003274</td>\n",
       "      <td>-0.002560</td>\n",
       "      <td>0.003303</td>\n",
       "    </tr>\n",
       "    <tr>\n",
       "      <th>2017-07-26</th>\n",
       "      <td>0.000041</td>\n",
       "      <td>0.002444</td>\n",
       "      <td>0.008040</td>\n",
       "      <td>0.003250</td>\n",
       "      <td>-0.000707</td>\n",
       "    </tr>\n",
       "    <tr>\n",
       "      <th>2017-07-27</th>\n",
       "      <td>-0.000930</td>\n",
       "      <td>-0.001221</td>\n",
       "      <td>-0.000751</td>\n",
       "      <td>-0.006301</td>\n",
       "      <td>-0.001730</td>\n",
       "    </tr>\n",
       "    <tr>\n",
       "      <th>2017-07-28</th>\n",
       "      <td>-0.001174</td>\n",
       "      <td>0.001831</td>\n",
       "      <td>0.007485</td>\n",
       "      <td>-0.000834</td>\n",
       "      <td>-0.001654</td>\n",
       "    </tr>\n",
       "    <tr>\n",
       "      <th>2017-07-31</th>\n",
       "      <td>-0.000567</td>\n",
       "      <td>-0.000122</td>\n",
       "      <td>0.000497</td>\n",
       "      <td>-0.004249</td>\n",
       "      <td>-0.000552</td>\n",
       "    </tr>\n",
       "    <tr>\n",
       "      <th>...</th>\n",
       "      <td>...</td>\n",
       "      <td>...</td>\n",
       "      <td>...</td>\n",
       "      <td>...</td>\n",
       "      <td>...</td>\n",
       "    </tr>\n",
       "    <tr>\n",
       "      <th>2024-07-15</th>\n",
       "      <td>0.002746</td>\n",
       "      <td>-0.003157</td>\n",
       "      <td>0.003222</td>\n",
       "      <td>0.002684</td>\n",
       "      <td>0.004272</td>\n",
       "    </tr>\n",
       "    <tr>\n",
       "      <th>2024-07-16</th>\n",
       "      <td>0.005913</td>\n",
       "      <td>0.003841</td>\n",
       "      <td>0.019730</td>\n",
       "      <td>0.000383</td>\n",
       "      <td>0.008203</td>\n",
       "    </tr>\n",
       "    <tr>\n",
       "      <th>2024-07-17</th>\n",
       "      <td>-0.014120</td>\n",
       "      <td>0.000958</td>\n",
       "      <td>-0.004654</td>\n",
       "      <td>-0.029794</td>\n",
       "      <td>-0.014217</td>\n",
       "    </tr>\n",
       "    <tr>\n",
       "      <th>2024-07-18</th>\n",
       "      <td>-0.007715</td>\n",
       "      <td>-0.002602</td>\n",
       "      <td>-0.006402</td>\n",
       "      <td>-0.004744</td>\n",
       "      <td>-0.008760</td>\n",
       "    </tr>\n",
       "    <tr>\n",
       "      <th>2024-07-19</th>\n",
       "      <td>-0.006663</td>\n",
       "      <td>-0.002609</td>\n",
       "      <td>-0.018101</td>\n",
       "      <td>-0.008903</td>\n",
       "      <td>-0.006252</td>\n",
       "    </tr>\n",
       "  </tbody>\n",
       "</table>\n",
       "<p>1758 rows × 5 columns</p>\n",
       "</div>"
      ],
      "text/plain": [
       "                 SPY       BND       GLD       QQQ       VTI\n",
       "Date                                                        \n",
       "2017-07-25  0.002428 -0.003785 -0.003274 -0.002560  0.003303\n",
       "2017-07-26  0.000041  0.002444  0.008040  0.003250 -0.000707\n",
       "2017-07-27 -0.000930 -0.001221 -0.000751 -0.006301 -0.001730\n",
       "2017-07-28 -0.001174  0.001831  0.007485 -0.000834 -0.001654\n",
       "2017-07-31 -0.000567 -0.000122  0.000497 -0.004249 -0.000552\n",
       "...              ...       ...       ...       ...       ...\n",
       "2024-07-15  0.002746 -0.003157  0.003222  0.002684  0.004272\n",
       "2024-07-16  0.005913  0.003841  0.019730  0.000383  0.008203\n",
       "2024-07-17 -0.014120  0.000958 -0.004654 -0.029794 -0.014217\n",
       "2024-07-18 -0.007715 -0.002602 -0.006402 -0.004744 -0.008760\n",
       "2024-07-19 -0.006663 -0.002609 -0.018101 -0.008903 -0.006252\n",
       "\n",
       "[1758 rows x 5 columns]"
      ]
     },
     "execution_count": 8,
     "metadata": {},
     "output_type": "execute_result"
    }
   ],
   "source": [
    "log_return"
   ]
  },
  {
   "cell_type": "markdown",
   "id": "f9a34835-7561-40b5-a9a9-7f4d80ebb2d2",
   "metadata": {},
   "source": [
    "### Calculating covariane matrix"
   ]
  },
  {
   "cell_type": "code",
   "execution_count": 9,
   "id": "73e805b2-836c-4b2b-ad3f-37691649712d",
   "metadata": {},
   "outputs": [
    {
     "name": "stdout",
     "output_type": "stream",
     "text": [
      "          SPY       BND       GLD       QQQ       VTI\n",
      "SPY  0.037103  0.001878  0.002550  0.042659  0.037788\n",
      "BND  0.001878  0.003666  0.003096  0.002321  0.002014\n",
      "GLD  0.002550  0.003096  0.019657  0.003443  0.002725\n",
      "QQQ  0.042659  0.002321  0.003443  0.056606  0.043387\n",
      "VTI  0.037788  0.002014  0.002725  0.043387  0.038806\n"
     ]
    }
   ],
   "source": [
    "co_matrix = log_return.cov() * 252\n",
    "print(co_matrix)"
   ]
  },
  {
   "cell_type": "markdown",
   "id": "19dd0b46-cab1-40e3-aeee-ff9441077ee2",
   "metadata": {},
   "source": [
    "### Setup inital weights"
   ]
  },
  {
   "cell_type": "code",
   "execution_count": 10,
   "id": "f55c764d-9fbb-48a6-895d-c8d4c92ff091",
   "metadata": {},
   "outputs": [
    {
     "name": "stdout",
     "output_type": "stream",
     "text": [
      "[0.2 0.2 0.2 0.2 0.2]\n"
     ]
    }
   ],
   "source": [
    "#portfolio_value = 100000\n",
    "initial_weights = np.array([1/len(tickers)]*len(tickers))\n",
    "print(initial_weights)"
   ]
  },
  {
   "cell_type": "code",
   "execution_count": 11,
   "id": "5845d6cd-5f71-4818-b37c-0fc1fe951f44",
   "metadata": {},
   "outputs": [],
   "source": [
    "# creating finction\n",
    "def port_stddev(weights, co_matrix):\n",
    "    variance = weights.T @ co_matrix @ weights\n",
    "    return np.sqrt(variance)\n",
    "\n",
    "\n",
    "def expected_return(weights,log_return):\n",
    "    return np.sum(log_return.mean()*weights)*252\n",
    "    "
   ]
  },
  {
   "cell_type": "code",
   "execution_count": 12,
   "id": "f1746f80-c785-4a9e-8fee-c373fb3b499f",
   "metadata": {},
   "outputs": [],
   "source": [
    "def sharpe_ratio(weights, log_returns,co_matrix,risk_free_rate):\n",
    "    return (expected_return(weights,log_return) - risk_free_rate)/port_stddev(weights, co_matrix)"
   ]
  },
  {
   "cell_type": "markdown",
   "id": "acdf34f0-3d08-409e-a298-94def0b37caf",
   "metadata": {},
   "source": [
    "### Defining risk-free rates and calculation of expected returns,standard deviation and Sharpe ration based on input\n",
    "### weightes generated from 3000 simulations, creating the dataframe having all metrics"
   ]
  },
  {
   "cell_type": "code",
   "execution_count": 13,
   "id": "aae1f0ee-2ca8-4c88-b910-c53955011c38",
   "metadata": {},
   "outputs": [],
   "source": [
    "risk_free_rate = 0.02"
   ]
  },
  {
   "cell_type": "code",
   "execution_count": 14,
   "id": "8b98888e-0c36-4ba4-b4ac-ebd4d1f4e5a3",
   "metadata": {},
   "outputs": [
    {
     "name": "stdout",
     "output_type": "stream",
     "text": [
      "\n",
      "================================================================================\n",
      "SIMULATIONS RESULT:\n",
      "--------------------------------------------------------------------------------\n",
      "    Returns  Volatility  Sharpe Ratio  \\\n",
      "0  0.107843    0.131187      0.669601   \n",
      "1  0.111592    0.133682      0.685149   \n",
      "2  0.108310    0.155821      0.566744   \n",
      "3  0.104557    0.145626      0.580647   \n",
      "4  0.101398    0.122084      0.666738   \n",
      "\n",
      "                                   Portfolio Weights  \n",
      "0  [0.11011738149072661, 0.23714104970709843, 0.2...  \n",
      "1  [0.24517995516731175, 0.18749069270561838, 0.2...  \n",
      "2  [0.013289988675982594, 0.21335657591656876, 0....  \n",
      "3  [0.09989926920040969, 0.3160782827809969, 0.01...  \n",
      "4  [0.13137084638948457, 0.2728213459769912, 0.21...  \n",
      "--------------------------------------------------------------------------------\n"
     ]
    }
   ],
   "source": [
    "numofport  = 3000\n",
    "numberofsymbol = len(tickers)\n",
    "all_weight = np.zeros((numofport,numberofsymbol))\n",
    "ret_arr = np.zeros(numofport)\n",
    "vol_arr = np.zeros(numofport)\n",
    "sharpe_arr = np.zeros(numofport)\n",
    "for ind in range(numofport):\n",
    "    weights_r = np.array(np.random.random(numberofsymbol))\n",
    "    weights_r = weights_r/np.sum(weights_r)\n",
    "    all_weight[ind,:] = weights_r\n",
    "    ret_arr[ind] = expected_return(weights_r,log_return)\n",
    "    vol_arr[ind] = port_stddev(weights_r, co_matrix)\n",
    "    sharpe_arr[ind] = sharpe_ratio(weights_r, log_return,co_matrix,risk_free_rate)\n",
    "\n",
    "simulation_data = [ret_arr, vol_arr,sharpe_arr, all_weight]\n",
    "simulations_df = pd.DataFrame(simulation_data)\n",
    "simulations_df = simulations_df. T\n",
    "# Give the columns the Proper Names.\n",
    "simulations_df.columns = ['Returns','Volatility','Sharpe Ratio','Portfolio Weights']\n",
    "\n",
    "# Make sure the data types are correct, we don't want our floats to be strings.\n",
    "                          \n",
    "\n",
    "\n",
    "simulations_df = simulations_df.infer_objects()\n",
    "# Print out the results.\n",
    "print('')\n",
    "print('='*80)\n",
    "print ('SIMULATIONS RESULT:')\n",
    "print('-'*80)\n",
    "print(simulations_df.head())\n",
    "print('-'*80)"
   ]
  },
  {
   "cell_type": "code",
   "execution_count": 15,
   "id": "52fd6a23-cbbb-4bdb-8052-56d78522592f",
   "metadata": {},
   "outputs": [
    {
     "name": "stdout",
     "output_type": "stream",
     "text": [
      "\n",
      "================================================================================\n",
      "MAX SHARPE RATIO: \n",
      "--------------------------------------------------------------------------------\n",
      "Returns                                                        0.13263\n",
      "Volatility                                                    0.146046\n",
      "Sharpe Ratio                                                  0.771195\n",
      "Portfolio Weights    [0.07141770135447963, 0.014199683227366058, 0....\n",
      "Name: 2165, dtype: object\n",
      "--------------------------------------------------------------------------------\n",
      "\n",
      "= = = = = = = = = = = = = = = = = = = = = = = = = = = = = = = = = = = = = = = = = = = = = = = = = = = = = = = = = = = = = = = = = = = = = = = = = = = = = = = = \n",
      "MIN VOLATILITY: \n",
      " - - - - - - - - - - - - - - - - - - - - - - - - - - - - - - - - - - - - - - - - - - - - - - - - - - - - - - - - - - - - - - - - - - - - - - - - - - - - - - - -\n",
      "Returns                                                       0.040489\n",
      "Volatility                                                    0.070555\n",
      "Sharpe Ratio                                                    0.2904\n",
      "Portfolio Weights    [0.04939329863149455, 0.7836401666113427, 0.00...\n",
      "Name: 2996, dtype: object\n",
      "--------------------------------------------------------------------------------\n"
     ]
    }
   ],
   "source": [
    "# Grab the Max Sharpe Ratio.\n",
    "max_sharpe_ratio = simulations_df.loc[simulations_df[ 'Sharpe Ratio'].idxmax()]\n",
    "# Return the Min Volatility from the Run.\n",
    "min_volatility = simulations_df.loc[simulations_df[ 'Volatility']. idxmin()]\n",
    "print ('')\n",
    "print ('='*80)\n",
    "print( 'MAX SHARPE RATIO: ')\n",
    "\n",
    "print('-'*80)\n",
    "print (max_sharpe_ratio)\n",
    "print ('-'*80)\n",
    "print('')\n",
    "print('= '*80)\n",
    "\n",
    "print('MIN VOLATILITY: ')\n",
    "print(' -'*80)\n",
    "print(min_volatility)\n",
    "print('-'*80)"
   ]
  },
  {
   "cell_type": "markdown",
   "id": "238c4e49-c321-455f-9e5b-441bd2782b02",
   "metadata": {},
   "source": [
    "### Getting the set of metrics based on maximum sharpe ratio and minimum-volatility"
   ]
  },
  {
   "cell_type": "code",
   "execution_count": 16,
   "id": "35fc902c-373f-4b06-a081-2edbcb69f987",
   "metadata": {},
   "outputs": [],
   "source": [
    "maxshar_w = max_sharpe_ratio[\"Portfolio Weights\"]\n",
    "min_volatility_w = min_volatility[\"Portfolio Weights\"]"
   ]
  },
  {
   "cell_type": "code",
   "execution_count": 17,
   "id": "72fc31f3-7a0c-4a7b-875e-f74fe616c1b4",
   "metadata": {},
   "outputs": [
    {
     "name": "stdout",
     "output_type": "stream",
     "text": [
      "[0.0714177  0.01419968 0.43653225 0.46975546 0.00809491]\n",
      "[0.0493933  0.78364017 0.00564634 0.10094595 0.06037425]\n"
     ]
    }
   ],
   "source": [
    "print(maxshar_w)\n",
    "print(min_volatility_w)"
   ]
  },
  {
   "cell_type": "markdown",
   "id": "a3bf6ef9-33e5-490e-a2e3-9fe279c5bafc",
   "metadata": {},
   "source": [
    "### Okay with our functions now defined, let's run the optimization using the scipy optimization module. This module has a function called minimize which we can use to help our optimal value. however we need to do few things before we can run into it. First we need to define bound which tell minizime fintion that each of our position can only  be between 0% and 100% of allocation. Seend, we reed to define the constraint which will be fun(function) that ensures we equ(equal) a 100% allocated portfolio. In other words, we use all the \"capital\" we can. Third, we need to define our initial guess of the weights. The initial guess can be anything but in this case let's make it easy and start with an equally  distirbuted portofolio. In this case we have 4 symbols so each symbol will be 25% of the portfolio.Once we've define this steps we can run the optimization by passing through the arguments defined and defining the method as SISeP which is short for Sequential Least Squares Programming. Now, the different optimization methods are a whole different topic and is outside the scope of this tutorial. Once we run the minimize method we can grab the results.The first is the results of our minimization operation. Inside the results, you'll see the optimize sharpe ration defined by the fun   value. We can then take the optimized_weights defined by the optimized_sharpe.x values, and use them to return the different metrics we have for our portfolio"
   ]
  },
  {
   "cell_type": "markdown",
   "id": "2ec0d985-a4af-4b54-917d-828ec78205dd",
   "metadata": {},
   "source": [
    "### if we want to optimize based on the sharpe ratio we need to define a function that returns only the sharpe ratio. \n",
    "### Since our optimization functions naturaily seek to minimize, we can minimize one of two quantities:\n",
    "### The negative of the sharpe ratio, (or 1/1+Sharpe Ratio).\n",
    "### Accordingly, if the sharpe ratio increases both of these quantities will"
   ]
  },
  {
   "cell_type": "code",
   "execution_count": 18,
   "id": "56bbacd9-5e8f-4d2b-a18b-a58ff0799dd9",
   "metadata": {},
   "outputs": [],
   "source": [
    "def neg_sharpe_ratio(weights, log_return, co_matrix, risk_free_rate):\n",
    "    return -sharpe_ratio(weights, log_return, co_matrix, risk_free_rate)"
   ]
  },
  {
   "cell_type": "code",
   "execution_count": 19,
   "id": "e242fb06-1b3a-478a-8bf4-f791c69647e2",
   "metadata": {},
   "outputs": [],
   "source": [
    "constraints = {'type': 'eq','fun': lambda weights: np.sum(weights) - 1}\n",
    "bounds = [(0, 0.4) for _ in range(len(tickers) )]"
   ]
  },
  {
   "cell_type": "code",
   "execution_count": 20,
   "id": "541e07d1-8bd4-4c34-971e-104a297eefa2",
   "metadata": {},
   "outputs": [
    {
     "name": "stdout",
     "output_type": "stream",
     "text": [
      "[0.2 0.2 0.2 0.2 0.2]\n"
     ]
    }
   ],
   "source": [
    "print(initial_weights)"
   ]
  },
  {
   "cell_type": "code",
   "execution_count": 21,
   "id": "aa81667c-49bb-4b70-a3b5-eecb7f8ad24f",
   "metadata": {},
   "outputs": [],
   "source": [
    "from scipy.optimize import minimize"
   ]
  },
  {
   "cell_type": "code",
   "execution_count": 22,
   "id": "06c2fd97-e537-45fb-ba8d-993a03d7fbfb",
   "metadata": {},
   "outputs": [
    {
     "data": {
      "text/plain": [
       "0.02"
      ]
     },
     "execution_count": 22,
     "metadata": {},
     "output_type": "execute_result"
    }
   ],
   "source": [
    "risk_free_rate"
   ]
  },
  {
   "cell_type": "code",
   "execution_count": 23,
   "id": "59854f72-4657-4677-959f-fb977d3c60bf",
   "metadata": {},
   "outputs": [],
   "source": [
    "optimized_results = minimize(neg_sharpe_ratio, initial_weights,\n",
    "                             args=(log_return, co_matrix, risk_free_rate),\n",
    "                             method= 'SLSQP', constraints=constraints, bounds=bounds)"
   ]
  },
  {
   "cell_type": "code",
   "execution_count": 24,
   "id": "d455658f-b3dc-47e7-bf4c-ec8df3f90ff1",
   "metadata": {},
   "outputs": [
    {
     "name": "stdout",
     "output_type": "stream",
     "text": [
      " message: Optimization terminated successfully\n",
      " success: True\n",
      "  status: 0\n",
      "     fun: -0.759734345716436\n",
      "       x: [ 2.000e-01  0.000e+00  4.000e-01  4.000e-01  0.000e+00]\n",
      "     nit: 4\n",
      "     jac: [-5.206e-03  1.874e-02 -2.623e-01 -7.207e-02  5.152e-02]\n",
      "    nfev: 24\n",
      "    njev: 4\n"
     ]
    }
   ],
   "source": [
    "print(optimized_results)"
   ]
  },
  {
   "cell_type": "code",
   "execution_count": 25,
   "id": "52baddbd-72e2-4d73-8ffe-f0e2d70fe7d5",
   "metadata": {},
   "outputs": [],
   "source": [
    "optimised_weights = optimized_results.x"
   ]
  },
  {
   "cell_type": "code",
   "execution_count": 26,
   "id": "85584ca8-dda7-40d1-98c2-06abb33bba2a",
   "metadata": {},
   "outputs": [
    {
     "name": "stdout",
     "output_type": "stream",
     "text": [
      "[0.2 0.  0.4 0.4 0. ]\n"
     ]
    }
   ],
   "source": [
    "print(optimised_weights)"
   ]
  },
  {
   "cell_type": "code",
   "execution_count": 27,
   "id": "e9cfd8d9-0a46-415f-bb28-6f502df6e8ac",
   "metadata": {},
   "outputs": [
    {
     "name": "stdout",
     "output_type": "stream",
     "text": [
      "Optimal Weights:\n",
      "SPY:  0.2000\n",
      "BND:  0.0000\n",
      "GLD:  0.4000\n",
      "QQQ:  0.4000\n",
      "VTI:  0.0000\n",
      "\n"
     ]
    }
   ],
   "source": [
    "print (\"Optimal Weights:\")\n",
    "for ticker, weight in zip(tickers, optimised_weights):\n",
    "    print(f\"{ticker}: {weight: .4f}\")\n",
    "print()\n",
    "optimal_portfolio_return = expected_return (optimised_weights, log_return)\n",
    "optimal_portfolio_volatility = port_stddev (optimised_weights, co_matrix)\n",
    "optimal_sharpe_ratio = sharpe_ratio(optimised_weights, log_return, co_matrix, risk_free_rate)\n"
   ]
  },
  {
   "cell_type": "code",
   "execution_count": 28,
   "id": "56add70c-2e10-4e65-bed2-d9a47ad49f2a",
   "metadata": {},
   "outputs": [
    {
     "data": {
      "text/plain": [
       "0.14839565163804086"
      ]
     },
     "execution_count": 28,
     "metadata": {},
     "output_type": "execute_result"
    }
   ],
   "source": [
    "optimal_portfolio_volatility"
   ]
  },
  {
   "cell_type": "code",
   "execution_count": 29,
   "id": "7c051e68-abb6-4146-b331-94bacc57217d",
   "metadata": {},
   "outputs": [
    {
     "name": "stdout",
     "output_type": "stream",
     "text": [
      "Expected Annual Return: 0.1327\n",
      "Expected Volatility: 0.1484\n",
      "Sharpe Ratio:  0.7597\n"
     ]
    }
   ],
   "source": [
    "print(f\"Expected Annual Return: {optimal_portfolio_return:.4f}\")\n",
    "print(f\"Expected Volatility: {optimal_portfolio_volatility:.4f}\")\n",
    "print(f\"Sharpe Ratio: {optimal_sharpe_ratio: .4f}\")"
   ]
  },
  {
   "cell_type": "code",
   "execution_count": 30,
   "id": "c2e53318-54a3-48d1-a2c8-b9c299f77427",
   "metadata": {},
   "outputs": [],
   "source": [
    "# Expected Annual Return: 0.4392\n",
    "# Expected Volatility: 0.1866\n",
    "# Sharpe Ratio:  2.2464"
   ]
  },
  {
   "cell_type": "code",
   "execution_count": 31,
   "id": "37202ecb-41f3-49df-a226-08269a50b37a",
   "metadata": {},
   "outputs": [],
   "source": [
    "import matplotlib.pyplot as plt\n",
    "# Import the required library\n",
    "import matplotlib.pyplot as plt\n",
    "# Create a bar chart of tile optimal weights\n",
    "# plt.figure(figsize=(10, 6))\n",
    "# plt.bar(tickers, optimised_weights)\n",
    "# # Add labels and a title\n",
    "# plt. xlabel ('Assets')\n",
    "# plt. ylabel ('Optimal Weights')\n",
    "# plt. title('Optimal Portfolio Weights')\n",
    "# # Display the chart\n",
    "# plt.show()"
   ]
  },
  {
   "cell_type": "code",
   "execution_count": 32,
   "id": "b779ced9-3d86-4e20-98d2-73d5c34f3a8f",
   "metadata": {},
   "outputs": [],
   "source": [
    "def get_metrics(weights: list):\n",
    "# convert the weights to a numpy array.\n",
    "    weights = np. array(weights)\n",
    "# Calculate the returns.\n",
    "    return np.sum(log_return.mean()*weights)*252"
   ]
  },
  {
   "cell_type": "code",
   "execution_count": 33,
   "id": "e4e2c203-5a4a-4b02-9440-357fe21ed746",
   "metadata": {},
   "outputs": [
    {
     "data": {
      "text/plain": [
       "0.13274127330439114"
      ]
     },
     "execution_count": 33,
     "metadata": {},
     "output_type": "execute_result"
    }
   ],
   "source": [
    "get_metrics(optimised_weights)"
   ]
  },
  {
   "cell_type": "code",
   "execution_count": 34,
   "id": "d0773b71-e621-4e7c-8da9-240d9dd87751",
   "metadata": {},
   "outputs": [
    {
     "data": {
      "text/plain": [
       "(-10.0, 10.0)"
      ]
     },
     "execution_count": 34,
     "metadata": {},
     "output_type": "execute_result"
    },
    {
     "data": {
      "image/png": "[encoded data removed]",
      "text/plain": [
       "<Figure size 2800x1000 with 3 Axes>"
      ]
     },
     "metadata": {},
     "output_type": "display_data"
    }
   ],
   "source": [
    "fig,(ax1,ax2,ax3) = plt.subplots(1,3, figsize = (28,10))\n",
    "ax1.bar(tickers,optimised_weights,color='blue')\n",
    "ax1.set_title('Optimal Portfolio Weights')\n",
    "ax1.set_xlabel('Assets')\n",
    "ax1.set_ylabel('Weights')\n",
    "ax1.set_xticklabels(tickers, rotation=90)\n",
    "\n",
    "ax2.bar(tickers,maxshar_w,color='green')\n",
    "ax2.set_title('max sharepe Weights')\n",
    "ax2.set_xlabel('Assets')\n",
    "ax2.set_ylabel('Weights')\n",
    "ax2.set_xticklabels(tickers, rotation=90)\n",
    "\n",
    "ax3.bar(tickers,min_volatility_w,color='red')\n",
    "ax3.set_title('minimum volatily Weights')\n",
    "ax3.set_xlabel('Assets')\n",
    "ax3.set_ylabel('Weights')\n",
    "ax3.set_xticklabels(tickers, rotation=90)\n",
    "ax3.set_ylim(-10, 10) \n",
    "\n",
    "\n",
    "# plt.figure(figsize=(10, 6))\n",
    "# plt.bar(tickers, maxshar_w)\n",
    "# # Add labels and a title\n",
    "# plt. xlabel ('Assets')\n",
    "# plt. ylabel ('Optimal Weights')\n",
    "# plt. title('Optimal Portfolio Weights')\n",
    "# # Display the chart\n",
    "# plt.show()"
   ]
  },
  {
   "cell_type": "code",
   "execution_count": 35,
   "id": "17f03cb7-e70f-4d2e-948d-1921f02049dd",
   "metadata": {},
   "outputs": [
    {
     "name": "stdout",
     "output_type": "stream",
     "text": [
      "[0.2 0.  0.4 0.4 0. ]\n"
     ]
    }
   ],
   "source": [
    "print(optimised_weights)"
   ]
  },
  {
   "cell_type": "code",
   "execution_count": null,
   "id": "7e8a8341-6004-4052-9ef3-23f10b2b1878",
   "metadata": {},
   "outputs": [],
   "source": []
  }
 ],
 "metadata": {
  "kernelspec": {
   "display_name": "Python 3 (ipykernel)",
   "language": "python",
   "name": "python3"
  },
  "language_info": {
   "codemirror_mode": {
    "name": "ipython",
    "version": 3
   },
   "file_extension": ".py",
   "mimetype": "text/x-python",
   "name": "python",
   "nbconvert_exporter": "python",
   "pygments_lexer": "ipython3",
   "version": "3.10.13"
  }
 },
 "nbformat": 4,
 "nbformat_minor": 5
}
